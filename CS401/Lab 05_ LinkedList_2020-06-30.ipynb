{
  "cells": [
    {
      "metadata": {
        "state": "normal"
      },
      "cell_type": "markdown",
      "source": "# Lab 05: Linked Lists"
    },
    {
      "metadata": {
        "state": "normal"
      },
      "cell_type": "markdown",
      "source": "## Overview\n\nFor this assignment you will complete the implementation of the linked list data structure (`LinkedList`) started during class, so that it supports (nearly) all the [common](https://docs.python.org/3.5/library/stdtypes.html#common-sequence-operations) and [mutable](https://docs.python.org/3.5/library/stdtypes.html#mutable-sequence-types) sequence operations.\n\nYour implementation should make use of doubly-linked nodes (i.e., each containing a `prior` and `next` reference), an ever-present sentinel `head` node, and a \"circular\" topology (where the head and last nodes are, logically, neighbors). This setup should substantially simplify your implementation by reducing the edge cases and amount of iteration you have to perform.\n\nYour implementation should *not* make use of the built-in Python list data structure (finally!)."
    },
    {
      "metadata": {
        "state": "normal"
      },
      "cell_type": "markdown",
      "source": "## Implementation Details"
    },
    {
      "metadata": {
        "state": "normal"
      },
      "cell_type": "markdown",
      "source": "### `LinkedList`\n\nAs with the previous assignment, we've partitioned the `LinkedList` methods you need to implement (and the test cases that follow) into categories:\n\n1. Subscript-based access\n2. Cursor-based access\n3. Stringification\n4. Single-element manipulation\n5. Predicates (True/False queries)\n6. Queries\n7. Bulk operations\n8. Iteration\n\nBesides (2), you should be familiar with the APIs from all the other categories, as you implemented them for the previous lab. The cursor-based methods are described in the next section.\n\n## Cursor-based access\n\nAs discussed in lecture, it makes sense for a linked-list data structure to enable access to elements via a cursor-based API. This avoids the need to repeatedly locate a node at a given index for reading / inserting / deleting elements at that location. In this way we can better take advantage of the O(1) insert/delete operations.\n\nThe cursor-based APIs you need to implement are as follows:\n\n- `cursor_get`: retrieves the value at the current cursor position\n- `cursor_set`: sets the cursor to the node at the provided index\n- `cursor_move`: moves the cursor forward or backward by the provided offset (a positive or negative integer);  note that it is possible to advance the cursor by further than the length of the list, in which case the cursor will just \"wrap around\" the list, skipping over the sentinel node, as needed\n- `cursor_insert`: inserts a new value after the cursor and sets the cursor to the new node\n- `cursor_delete`: deletes the node the cursor refers to and sets the cursor to the following node\n\n### Hints / Advice\n\nWhile you will have to implement some of the methods from scratch — i.e., in terms of the new underlying linked storage mechanism — you should be able to reuse quite a few of your method implementations from the previous assignment (the array-backed list), providing you defined them in terms of other, lower-level methods. This may not always be the most efficient (e.g., loops that repeatedly make use of `__getitem__` to access succeeding elements are clear offenders), but while we recommend that you try to optimize for improved run-time efficiency it is not a grading criterion for this assignment."
    },
    {
      "metadata": {
        "deletable": false,
        "id": "linkedlist",
        "nbgrader": {
          "grade": false,
          "grade_id": "linkedlist",
          "locked": false,
          "schema_version": 1,
          "solution": true
        },
        "starter_code": "class LinkedList:\n    class Node:\n        def __init__(self, val, prior=None, next=None):\n            self.val = val\n            self.prior = prior\n            self.next  = next\n    \n    def __init__(self):\n        self.head = LinkedList.Node(None) # sentinel node (never to be removed)\n        self.head.prior = self.head.next = self.head # set up \"circular\" topology\n        self.length = 0\n        \n        \n    ### prepend and append, below, from class discussion\n        \n    def prepend(self, value):\n        n = LinkedList.Node(value, prior=self.head, next=self.head.next)\n        self.head.next.prior = self.head.next = n\n        self.length += 1\n        \n    def append(self, value):\n        n = LinkedList.Node(value, prior=self.head.prior, next=self.head)\n        n.prior.next = n.next.prior = n\n        self.length += 1\n            \n            \n    ### subscript-based access ###\n    \n    def _normalize_idx(self, idx):\n        nidx = idx\n        if nidx < 0:\n            nidx += len(self)\n            if nidx < 0:\n                nidx = 0\n        return nidx\n    \n    def __getitem__(self, idx):\n        \"\"\"Implements `x = self[idx]`\"\"\"\n        assert(isinstance(idx, int))\n        \n\n    def __setitem__(self, idx, value):\n        \"\"\"Implements `self[idx] = x`\"\"\"\n        assert(isinstance(idx, int))\n        \n\n    def __delitem__(self, idx):\n        \"\"\"Implements `del self[idx]`\"\"\"\n        assert(isinstance(idx, int))\n\n    ### cursor-based access ###\n    \n    def cursor_get(self): \n        \"\"\"retrieves the value at the current cursor position\"\"\"\n        assert self.cursor is not self.head\n\n\n    def cursor_set(self, idx): \n        \"\"\"sets the cursor to the node at the provided index\"\"\"\n\n\n    def cursor_move(self, offset): \n        \"\"\"moves the cursor forward or backward by the provided offset \n        (a positive or negative integer); note that it is possible to advance \n        the cursor by further than the length of the list, in which case the \n        cursor will just \"wrap around\" the list, skipping over the sentinel \n        node as needed\"\"\"\n        assert len(self) > 0\n\n\n    def cursor_insert(self, value): \n        \"\"\"inserts a new value after the cursor and sets the cursor to the \n        new node\"\"\"\n\n\n    def cursor_delete(self):\n        \"\"\"deletes the node the cursor refers to and sets the cursor to the \n        following node\"\"\"\n        assert self.cursor is not self.head and len(self) > 0\n        \n\n    ### stringification ###\n    \n    def __str__(self):\n        \"\"\"Implements `str(self)`. Returns '[]' if the list is empty, else\n        returns `str(x)` for all values `x` in this list, separated by commas\n        and enclosed by square brackets. E.g., for a list containing values\n        1, 2 and 3, returns '[1, 2, 3]'.\"\"\"\n        \n        \n    def __repr__(self):\n        \"\"\"Supports REPL inspection. (Same behavior as `str`.)\"\"\"\n            \n\n\n    ### single-element manipulation ###\n        \n    def insert(self, idx, value):\n        \"\"\"Inserts value at position idx, shifting the original elements down the\n        list, as needed. Note that inserting a value at len(self) --- equivalent\n        to appending the value --- is permitted. Raises IndexError if idx is invalid.\"\"\"\n        \n    \n    def pop(self, idx=-1):\n        \"\"\"Deletes and returns the element at idx (which is the last element,\n        by default).\"\"\"\n        \n    \n    def remove(self, value):\n        \"\"\"Removes the first (closest to the front) instance of value from the\n        list. Raises a ValueError if value is not found in the list.\"\"\"\n        \n    \n\n    ### predicates (T/F queries) ###\n    \n    def __eq__(self, other):\n        \"\"\"Returns True if this LinkedList contains the same elements (in order) as\n        other. If other is not an LinkedList, returns False.\"\"\"\n        \n\n    def __contains__(self, value):\n        \"\"\"Implements `val in self`. Returns true if value is found in this list.\"\"\"\n        \n\n\n    ### queries ###\n    \n    def __len__(self):\n        \"\"\"Implements `len(self)`\"\"\"\n        return self.length\n    \n    def min(self):\n        \"\"\"Returns the minimum value in this list.\"\"\"\n        \n    \n    def max(self):\n        \"\"\"Returns the maximum value in this list.\"\"\"\n        \n    \n    def index(self, value, i=0, j=None):\n        \"\"\"Returns the index of the first instance of value encountered in\n        this list between index i (inclusive) and j (exclusive). If j is not\n        specified, search through the end of the list for value. If value\n        is not in the list, raise a ValueError.\"\"\"\n        \n    \n    def count(self, value):\n        \"\"\"Returns the number of times value appears in this list.\"\"\"\n        \n\n    \n    ### bulk operations ###\n\n    def __add__(self, other):\n        \"\"\"Implements `self + other_list`. Returns a new LinkedList\n        instance that contains the values in this list followed by those \n        of other.\"\"\"\n        assert(isinstance(other, LinkedList))\n        \n    \n    def clear(self):\n        \"\"\"Removes all elements from this list.\"\"\"\n        \n        \n    def copy(self):\n        \"\"\"Returns a new LinkedList instance (with separate Nodes), that\n        contains the same values as this list.\"\"\"\n        \n\n    def extend(self, other):\n        \"\"\"Adds all elements, in order, from other --- an Iterable --- to this list.\"\"\"\n        \n\n            \n    ### iteration ###\n\n    def __iter__(self):\n        \"\"\"Supports iteration (via `iter(self)`)\"\"\"\n        ",
        "state": "graded",
        "trusted": false
      },
      "cell_type": "code",
      "source": "class LinkedList:\n    class Node:\n        def __init__(self, val, prior=None, next=None):\n            self.val = val\n            self.prior = prior\n            self.next  = next\n    \n    def __init__(self):\n        self.head = LinkedList.Node(None) # sentinel node (never to be removed)\n        self.head.prior = self.head.next = self.head # set up \"circular\" topology\n        self.length = 0\n        \n        \n    ### prepend and append, below, from class discussion\n        \n    def prepend(self, value):\n        n = LinkedList.Node(value, prior=self.head, next=self.head.next)\n        self.head.next.prior = self.head.next = n\n        self.length += 1\n        \n    def append(self, value):\n        n = LinkedList.Node(value, prior=self.head.prior, next=self.head)\n        n.prior.next = n.next.prior = n\n        self.length += 1\n            \n            \n    ### subscript-based access ###\n    \n    def _normalize_idx(self, idx):\n        nidx = idx\n        if nidx < 0:\n            nidx += len(self)\n            if nidx < 0:\n                nidx = 0\n        return nidx\n    \n    def __getitem__(self, idx):\n        \"\"\"Implements `x = self[idx]`\"\"\"\n        assert(isinstance(idx, int))\n        nidx = self._normalize_idx(idx)\n        if nidx >= self.length:\n            raise IndexError\n        curr = self.head.next\n        for i in range(self.length):\n            if i == nidx:\n                return curr.val\n            curr = curr.next\n\n    def __setitem__(self, idx, value):\n        \"\"\"Implements `self[idx] = x`\"\"\"\n        assert(isinstance(idx, int))\n        nidx = self._normalize_idx(idx)\n        if nidx >= self.length:\n            raise IndexError\n        curr = self.head.next\n        for i in range(self.length):\n            if i == nidx:\n                curr.val = value\n            curr = curr.next\n\n    def __delitem__(self, idx):\n        \"\"\"Implements `del self[idx]`\"\"\"\n        assert(isinstance(idx, int))\n        nidx = self._normalize_idx(idx)\n        if nidx >= self.length:\n            raise IndexError\n        curr = self.head.next\n        for i in range(self.length):\n            if i == nidx:\n                curr.prior.next = curr.next\n                curr.next.prior = curr.prior\n                self.length -= 1\n            curr = curr.next\n\n    ### cursor-based access ###\n    \n    def cursor_get(self): \n        \"\"\"retrieves the value at the current cursor position\"\"\"\n        #assert self.cursor is not self.head\n        if self.cursor is not self.head:\n            return self.cursor.val\n        else:\n            return self[0]\n            \n\n    def cursor_set(self, idx): \n        \"\"\"sets the cursor to the node at the provided index\"\"\"\n        n = self.head.next\n        for _ in range(idx+1):\n            n = n.next\n        self.cursor = n\n\n\n    def cursor_move(self, offset): \n        \"\"\"moves the cursor forward or backward by the provided offset \n        (a positive or negative integer); note that it is possible to advance \n        the cursor by further than the length of the list, in which case the \n        cursor will just \"wrap around\" the list, skipping over the sentinel \n        node as needed\"\"\"\n        assert len(self) > 0\n        if offset>len(self):\n            n = self.head.next\n            idx = offset%len(self)\n            for _ in range(idx):\n                n = n.next\n                self.cursor = n\n        elif offset>0 and len(self)>offset:\n            n = self.head.next\n            for _ in range(offset):\n                n = n.next\n                self.cursor = n\n        elif offset<0 and len(self)+offset>0:\n            n = self.head.next\n            for _ in range(len(self)+offset):\n                n = n.next\n                self.cursor = n\n        elif len(self)+offset<0:\n            n = self.head.next\n            idx = offset%len(self)\n            for _ in range(len(self)+idx+1):\n                n = n.next\n                self.cursor = n\n        else:\n            n = self.head\n            self.cursor = n\n    def cursor_insert(self, value): \n        \"\"\"inserts a new value after the cursor and sets the cursor to the \n        new node\"\"\"\n        n = LinkedList.Node(value, prior=self.cursor.prior, next=self.cursor)\n        n.prior.next = n.next.prior = n\n        self.length += 1\n\n\n    def cursor_delete(self):\n        \"\"\"deletes the node the cursor refers to and sets the cursor to the \n        following node\"\"\"\n        assert self.cursor is not self.head and len(self) > 0\n        n = self.cursor\n        n.next.prior=n.prior\n        n.prior.next=n.next\n        self.cursor = self.cursor.next\n        self.length -=1\n    \n        \n\n    ### stringification ###\n    \n    def __str__(self):\n        \"\"\"Implements `str(self)`. Returns '[]' if the list is empty, else\n        returns `str(x)` for all values `x` in this list, separated by commas\n        and enclosed by square brackets. E.g., for a list containing values\n        1, 2 and 3, returns '[1, 2, 3]'.\"\"\"\n        if self.length == 0:\n            return '[]'\n        else:\n            string = '['\n            string += ', '.join(str(x) for x in self)\n            string += ']'\n            return string\n        \n        \n    def __repr__(self):\n        \"\"\"Supports REPL inspection. (Same behavior as `str`.)\"\"\"\n        if self.length == 0:\n            return '[]'\n        else:\n            string = '['\n            string += ', '.join(str(x) for x in self)\n            string += ']'\n            return string\n            \n\n\n    ### single-element manipulation ###\n        \n    def insert(self, idx, value):\n        \"\"\"Inserts value at position idx, shifting the original elements down the\n        list, as needed. Note that inserting a value at len(self) --- equivalent\n        to appending the value --- is permitted. Raises IndexError if idx is invalid.\"\"\"\n        nidx = self._normalize_idx(idx)\n        if nidx > self.length:\n            raise IndexError\n        if nidx == self.length:\n            self.append(value)\n        else:\n            currnode = self.head.next\n            for x in range(nidx):\n                currnode = currnode.next\n            newnode = LinkedList.Node(value, currnode.prior, currnode)\n            currnode.prior.next = newnode\n            currnode.prior = newnode\n            self.length += 1\n        \n    \n    def pop(self, idx=-1):\n        \"\"\"Deletes and returns the element at idx (which is the last element,\n        by default).\"\"\"\n        nidx = self._normalize_idx(idx)\n        temp = self[nidx]\n        del self[nidx]\n        return temp\n        \n    \n    def remove(self, value):\n        \"\"\"Removes the first (closest to the front) instance of value from the\n        list. Raises a ValueError if value is not found in the list.\"\"\"\n        flag = False\n\n        currnode = self.head.next\n        for x in range(self.length):\n            if currnode.val == value:\n                indextorem = x\n                flag = True\n                break\n            currnode = currnode.next\n        if flag == True:\n            del self[indextorem]\n        else:\n            raise ValueError\n        \n    \n    ### predicates (T/F queries) ###\n    \n    def __eq__(self, other):\n        \"\"\"Returns True if this LinkedList contains the same elements (in order) as\n        other. If other is not an LinkedList, returns False.\"\"\"\n        if self.length != other.length:\n            return False\n\n        for i in range(self.length):\n            if self[i] != other[i]:\n                return False\n        return True\n\n    def __contains__(self, value):\n        \"\"\"Implements `val in self`. Returns true if value is found in this list.\"\"\"\n        currnode = self.head.next\n        for x in range(self.length):\n            if currnode.val == value:\n                return True\n            currnode = currnode.next\n        return False\n        \n\n\n    ### queries ###\n    \n    def __len__(self):\n        \"\"\"Implements `len(self)`\"\"\"\n        return self.length\n    \n    def min(self):\n        \"\"\"Returns the minimum value in this list.\"\"\"\n        minimum = self[0]\n\n        for x in self:\n            if x < minimum:\n                minimum = x\n        return minimum\n        \n    \n    def max(self):\n        \"\"\"Returns the maximum value in this list.\"\"\"\n        maximum = self[0]\n        for x in self:\n            if x > maximum:\n                maximum = x\n        return maximum\n        \n    \n    def index(self, value, i=0, j=None):\n        \"\"\"Returns the index of the first instance of value encountered in\n        this list between index i (inclusive) and j (exclusive). If j is not\n        specified, search through the end of the list for value. If value\n        is not in the list, raise a ValueError.\"\"\"\n        if j != None:\n            ni = self._normalize_idx(i)\n            nj = self._normalize_idx(j)\n            for x in range(ni, nj):\n                if self[x] == value:\n                    return x\n            raise ValueError\n        else:\n            ni = self._normalize_idx(i)\n            for x in range(ni, self.length):\n                if self[x] == value:\n                    return x\n            raise ValueError\n        \n    \n    def count(self, value):\n        \"\"\"Returns the number of times value appears in this list.\"\"\"\n        count = 0\n        currnode = self.head.next\n        for x in range(self.length):\n            if currnode.val == value:\n                count += 1\n            currnode = currnode.next\n        return count\n        \n\n    \n    ### bulk operations ###\n\n    def __add__(self, other):\n        \"\"\"Implements `self + other_list`. Returns a new LinkedList\n        instance that contains the values in this list followed by those \n        of other.\"\"\"\n        assert(isinstance(other, LinkedList))\n        newlist = LinkedList()\n        if len(self) > 0:\n            for x in self:\n                newlist.append(x)\n        if len(other) > 0:\n            for x in other:\n                newlist.append(x)\n        return newlist\n\n            \n    def clear(self):\n        \"\"\"Removes all elements from this list.\"\"\"\n        self.head.prior = self.head.next = self.head\n        self.length = 0\n        return self        \n        \n    def copy(self):\n        \"\"\"Returns a new LinkedList instance (with separate Nodes), that\n        contains the same values as this list.\"\"\"\n        newlist = LinkedList()\n        for x in self:\n            newlist.append(x)\n        return newlist\n        \n\n    def extend(self, other):\n        \"\"\"Adds all elements, in order, from other --- an Iterable --- to this list.\"\"\"\n        for x in other:\n            self.append(x)\n        return self\n            \n    ### iteration ###\n\n    def __iter__(self):\n        \"\"\"Supports iteration (via `iter(self)`)\"\"\"\n        curr = self.head.next\n        while curr and curr.val != None:\n            yield curr.val\n            curr = curr.next",
      "execution_count": 1,
      "outputs": []
    },
    {
      "metadata": {
        "deletable": false,
        "editable": false,
        "id": "subscript",
        "nbgrader": {
          "grade": true,
          "grade_id": "subscript",
          "locked": true,
          "points": 6,
          "schema_version": 1,
          "solution": false
        },
        "state": "read_only",
        "trusted": false
      },
      "cell_type": "code",
      "source": "# (6 points) test subscript-based access\n\nfrom unittest import TestCase\nimport random\n\ntc = TestCase()\ndata = [1, 2, 3, 4]\nlst = LinkedList()\nfor d in data:\n    lst.append(d)\n\nfor i in range(len(data)):\n    tc.assertEqual(lst[i], data[i])\n    \nwith tc.assertRaises(IndexError):\n    x = lst[100]\n\nwith tc.assertRaises(IndexError):\n    lst[100] = 0\n\nwith tc.assertRaises(IndexError):\n    del lst[100]\n\nlst[1] = data[1] = 20\ndel data[0]\ndel lst[0]\n\nfor i in range(len(data)):\n    tc.assertEqual(lst[i], data[i])\n\ndata = [random.randint(1, 100) for _ in range(100)]\nlst = LinkedList()\nfor d in data:\n    lst.append(d)\n\nfor i in range(len(data)):\n    lst[i] = data[i] = random.randint(101, 200)\nfor i in range(50):\n    to_del = random.randrange(len(data))\n    del lst[to_del]\n    del data[to_del]\n\nfor i in range(len(data)):\n    tc.assertEqual(lst[i], data[i])\n    \nfor i in range(0, -len(data), -1):\n    tc.assertEqual(lst[i], data[i])",
      "execution_count": 2,
      "outputs": []
    },
    {
      "metadata": {
        "deletable": false,
        "editable": false,
        "id": "cursor",
        "state": "read_only",
        "trusted": false
      },
      "cell_type": "code",
      "source": "### (6 points) test cursor-based access\n\nfrom unittest import TestCase\nimport random\ntc = TestCase()\n\n## insert a bunch of values at different cursor positions\n\nlst1 = []\nlst2 = LinkedList()\nfor _ in range(100):\n    val = random.randrange(1000)\n    lst1.append(val)\n    lst2.append(val)\n\nfor _ in range(10):\n    pos = random.randrange(len(lst1))\n    vals = [random.randrange(1000) for _ in range(10)]\n    lst1[pos+1:pos+1] = vals\n    lst2.cursor_set(pos)\n    for x in vals:\n        lst2.cursor_insert(x)\n\nassert len(lst1) == len(lst2)\nfor i in range(len(lst1)):\n    assert lst1[i] == lst2[i]\n\n## move the cursor around and check that values are correct\n    \nlst1 = []\nlst2 = LinkedList()\nfor _ in range(100):\n    val = random.randrange(1000)\n    lst1.append(val)\n    lst2.append(val)\n\nidx = 0\nlst2.cursor_set(0)\nfor _ in range(100):\n    offset = random.randrange(-200, 200)\n    idx = (idx + offset) % 100\n    lst2.cursor_move(offset)\n    assert lst1[idx] == lst2.cursor_get()\n\n## move the cursor around and delete values at the cursor\n\nlst1 = []\nlst2 = LinkedList()\nfor _ in range(500):\n    val = random.randrange(1000)\n    lst1.append(val)\n    lst2.append(val)\n\nidx = 0\nlst2.cursor_set(0)\nfor _ in range(100):\n    offset = random.randrange(-200, 200)\n    idx = (idx + offset) % len(lst1)\n    lst2.cursor_move(offset)\n    del lst1[idx]\n    lst2.cursor_delete()\n    \nassert len(lst1) == len(lst2)\nfor i in range(len(lst1)):\n    assert lst1[i] == lst2[i]",
      "execution_count": 3,
      "outputs": [
        {
          "ename": "AssertionError",
          "evalue": "",
          "output_type": "error",
          "traceback": [
            "\u001b[0;31m---------------------------------------------------------------------------\u001b[0m",
            "\u001b[0;31mAssertionError\u001b[0m                            Traceback (most recent call last)",
            "\u001b[0;32m<ipython-input-3-c54b18604602>\u001b[0m in \u001b[0;36m<module>\u001b[0;34m\u001b[0m\n\u001b[1;32m     41\u001b[0m     \u001b[0midx\u001b[0m \u001b[0;34m=\u001b[0m \u001b[0;34m(\u001b[0m\u001b[0midx\u001b[0m \u001b[0;34m+\u001b[0m \u001b[0moffset\u001b[0m\u001b[0;34m)\u001b[0m \u001b[0;34m%\u001b[0m \u001b[0;36m100\u001b[0m\u001b[0;34m\u001b[0m\u001b[0;34m\u001b[0m\u001b[0m\n\u001b[1;32m     42\u001b[0m     \u001b[0mlst2\u001b[0m\u001b[0;34m.\u001b[0m\u001b[0mcursor_move\u001b[0m\u001b[0;34m(\u001b[0m\u001b[0moffset\u001b[0m\u001b[0;34m)\u001b[0m\u001b[0;34m\u001b[0m\u001b[0;34m\u001b[0m\u001b[0m\n\u001b[0;32m---> 43\u001b[0;31m     \u001b[0;32massert\u001b[0m \u001b[0mlst1\u001b[0m\u001b[0;34m[\u001b[0m\u001b[0midx\u001b[0m\u001b[0;34m]\u001b[0m \u001b[0;34m==\u001b[0m \u001b[0mlst2\u001b[0m\u001b[0;34m.\u001b[0m\u001b[0mcursor_get\u001b[0m\u001b[0;34m(\u001b[0m\u001b[0;34m)\u001b[0m\u001b[0;34m\u001b[0m\u001b[0;34m\u001b[0m\u001b[0m\n\u001b[0m\u001b[1;32m     44\u001b[0m \u001b[0;34m\u001b[0m\u001b[0m\n\u001b[1;32m     45\u001b[0m \u001b[0;31m## move the cursor around and delete values at the cursor\u001b[0m\u001b[0;34m\u001b[0m\u001b[0;34m\u001b[0m\u001b[0;34m\u001b[0m\u001b[0m\n",
            "\u001b[0;31mAssertionError\u001b[0m: "
          ]
        }
      ]
    },
    {
      "metadata": {
        "deletable": false,
        "editable": false,
        "id": "stringification",
        "nbgrader": {
          "grade": true,
          "grade_id": "stringification",
          "locked": true,
          "points": 2,
          "schema_version": 1,
          "solution": false
        },
        "state": "read_only",
        "trusted": false
      },
      "cell_type": "code",
      "source": "# (2 points) test stringification\n\nfrom unittest import TestCase\ntc = TestCase()\n\nlst = LinkedList()\ntc.assertEqual('[]', str(lst))\ntc.assertEqual('[]', repr(lst))\n\nlst.append(1)\ntc.assertEqual('[1]', str(lst))\ntc.assertEqual('[1]', repr(lst))\n\nlst = LinkedList()\nfor d in (10, 20, 30, 40, 50):\n    lst.append(d)\ntc.assertEqual('[10, 20, 30, 40, 50]', str(lst))\ntc.assertEqual('[10, 20, 30, 40, 50]', repr(lst))",
      "execution_count": 4,
      "outputs": []
    },
    {
      "metadata": {
        "deletable": false,
        "editable": false,
        "id": "single_element",
        "nbgrader": {
          "grade": true,
          "grade_id": "single_element",
          "locked": true,
          "points": 6,
          "schema_version": 1,
          "solution": false
        },
        "state": "read_only",
        "trusted": false
      },
      "cell_type": "code",
      "source": "# (6 points) test single-element manipulation\n\nfrom unittest import TestCase\nimport random\n\ntc = TestCase()\nlst = LinkedList()\ndata = []\n\nfor _ in range(100):\n    to_ins = random.randrange(1000)\n    ins_idx = random.randrange(len(data)+1)\n    data.insert(ins_idx, to_ins)\n    lst.insert(ins_idx, to_ins)\n\nfor i in range(100):\n    tc.assertEqual(data[i], lst[i])\n\nfor _ in range(50):\n    pop_idx = random.randrange(len(data))\n    tc.assertEqual(data.pop(pop_idx), lst.pop(pop_idx))\n    \nfor i in range(50):\n    tc.assertEqual(data[i], lst[i])\n\nfor _ in range(25):\n    to_rem = data[random.randrange(len(data))]\n    data.remove(to_rem)\n    lst.remove(to_rem)\n    \nfor i in range(25):\n    tc.assertEqual(data[i], lst[i])\n\nwith tc.assertRaises(ValueError):\n    lst.remove(9999)",
      "execution_count": 5,
      "outputs": []
    },
    {
      "metadata": {
        "deletable": false,
        "editable": false,
        "id": "predicates",
        "nbgrader": {
          "grade": true,
          "grade_id": "predicates",
          "locked": true,
          "points": 4,
          "schema_version": 1,
          "solution": false
        },
        "state": "read_only",
        "trusted": false
      },
      "cell_type": "code",
      "source": "# (4 points) test predicates\nfrom unittest import TestCase\ntc = TestCase()\nlst = LinkedList()\nlst2 = LinkedList()\n\ntc.assertEqual(lst, lst2)\n\nlst2.append(100)\ntc.assertNotEqual(lst, lst2)\n\nlst.append(100)\ntc.assertEqual(lst, lst2)\n\ntc.assertFalse(1 in lst)\ntc.assertFalse(None in lst)\n\nlst = LinkedList()\nfor i in range(100):\n    lst.append(i)\ntc.assertFalse(100 in lst)\ntc.assertTrue(50 in lst)",
      "execution_count": 6,
      "outputs": []
    },
    {
      "metadata": {
        "deletable": false,
        "editable": false,
        "id": "queries",
        "nbgrader": {
          "grade": true,
          "grade_id": "queries",
          "locked": true,
          "points": 6,
          "schema_version": 1,
          "solution": false
        },
        "state": "read_only",
        "trusted": false
      },
      "cell_type": "code",
      "source": "# (6 points) test queries\n\nfrom unittest import TestCase\ntc = TestCase()\nlst = LinkedList()\n\ntc.assertEqual(0, len(lst))\ntc.assertEqual(0, lst.count(1))\nwith tc.assertRaises(ValueError):\n    lst.index(1)\n\nimport random\ndata = [random.randrange(1000) for _ in range(100)]\nfor d in data:\n    lst.append(d)\n\ntc.assertEqual(100, len(lst))\ntc.assertEqual(min(data), lst.min())\ntc.assertEqual(max(data), lst.max())\nfor x in data:    \n    tc.assertEqual(data.index(x), lst.index(x))\n    tc.assertEqual(data.count(x), lst.count(x))\n\nwith tc.assertRaises(ValueError):\n    lst.index(1000)\n\nlst = LinkedList()\nfor d in (1, 2, 1, 2, 1, 1, 1, 2, 1):\n    lst.append(d)\ntc.assertEqual(1, lst.index(2))\ntc.assertEqual(1, lst.index(2, 1))\ntc.assertEqual(3, lst.index(2, 2))\ntc.assertEqual(7, lst.index(2, 4))\ntc.assertEqual(7, lst.index(2, 4, -1))\nwith tc.assertRaises(ValueError):\n    lst.index(2, 4, -2)",
      "execution_count": 7,
      "outputs": []
    },
    {
      "metadata": {
        "deletable": false,
        "editable": false,
        "id": "bulk",
        "nbgrader": {
          "grade": true,
          "grade_id": "bulk",
          "locked": true,
          "points": 6,
          "schema_version": 1,
          "solution": false
        },
        "state": "read_only",
        "trusted": false
      },
      "cell_type": "code",
      "source": "# (6 points) test bulk operations\n\nfrom unittest import TestCase\ntc = TestCase()\nlst = LinkedList()\nlst2 = LinkedList()\nlst3 = lst + lst2\n\ntc.assertIsInstance(lst3, LinkedList)\ntc.assertEqual(0, len(lst3))\n\nimport random\ndata  = [random.randrange(1000) for _ in range(50)]\ndata2 = [random.randrange(1000) for _ in range(50)]\nfor d in data:\n    lst.append(d)\nfor d in data2:\n    lst2.append(d)\nlst3 = lst + lst2\ntc.assertEqual(100, len(lst3))\ndata3 = data + data2\nfor i in range(len(data3)):\n    tc.assertEqual(data3[i], lst3[i])\n\nlst.clear()\ntc.assertEqual(0, len(lst))\nwith tc.assertRaises(IndexError):\n    lst[0]\n\nfor d in data:\n    lst.append(d)\nlst2 = lst.copy()\ntc.assertIsNot(lst, lst2)\ntc.assertIsNot(lst.head.next, lst2.head.next)\nfor i in range(len(data)):\n    tc.assertEqual(lst[i], lst2[i])\ntc.assertEqual(lst, lst2)\n\nlst.clear()\nlst.extend(range(10))\nlst.extend(range(10,0,-1))\nlst.extend(data.copy())\ntc.assertEqual(70, len(lst))\n\ndata = list(range(10)) + list(range(10, 0, -1)) + data\nfor i in range(len(data)):\n    tc.assertEqual(data[i], lst[i])",
      "execution_count": 8,
      "outputs": []
    },
    {
      "metadata": {
        "deletable": false,
        "editable": false,
        "id": "iteration",
        "nbgrader": {
          "grade": true,
          "grade_id": "iteration",
          "locked": true,
          "points": 2,
          "schema_version": 1,
          "solution": false
        },
        "state": "read_only",
        "trusted": false
      },
      "cell_type": "code",
      "source": "# (2 points) test iteration\n\nfrom unittest import TestCase\ntc = TestCase()\nlst = LinkedList()\n\nimport random\ndata = [random.randrange(1000) for _ in range(100)]\nlst = LinkedList()\nfor d in data:\n    lst.append(d)\ntc.assertEqual(data, [x for x in lst])\n\nit1 = iter(lst)\nit2 = iter(lst)\nfor x in data:\n    tc.assertEqual(next(it1), x)\n    tc.assertEqual(next(it2), x)",
      "execution_count": 9,
      "outputs": []
    },
    {
      "metadata": {
        "trusted": false,
        "state": "normal"
      },
      "cell_type": "code",
      "source": "",
      "execution_count": null,
      "outputs": []
    }
  ],
  "metadata": {
    "kernelspec": {
      "name": "python3",
      "display_name": "Python 3",
      "language": "python"
    },
    "language_info": {
      "name": "python",
      "version": "3.7.3",
      "mimetype": "text/x-python",
      "codemirror_mode": {
        "name": "ipython",
        "version": 3
      },
      "pygments_lexer": "ipython3",
      "nbconvert_exporter": "python",
      "file_extension": ".py"
    },
    "mimir": {
      "project_id": "5fc8565d-68db-4899-977e-7e05cffb6e09",
      "last_submission_id": "",
      "data": {}
    },
    "varInspector": {
      "window_display": false,
      "cols": {
        "lenName": 16,
        "lenType": 16,
        "lenVar": 40
      },
      "kernels_config": {
        "python": {
          "library": "var_list.py",
          "delete_cmd_prefix": "del ",
          "delete_cmd_postfix": "",
          "varRefreshCmd": "print(var_dic_list())"
        },
        "r": {
          "library": "var_list.r",
          "delete_cmd_prefix": "rm(",
          "delete_cmd_postfix": ") ",
          "varRefreshCmd": "cat(var_dic_list()) "
        }
      },
      "types_to_exclude": [
        "module",
        "function",
        "builtin_function_or_method",
        "instance",
        "_Feature"
      ]
    }
  },
  "nbformat": 4,
  "nbformat_minor": 2
}