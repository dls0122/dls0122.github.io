{
  "cells": [
    {
      "metadata": {
        "state": "normal"
      },
      "cell_type": "markdown",
      "source": "# Lab 03: Runtime Complexity"
    },
    {
      "metadata": {
        "state": "normal",
        "trusted": false
      },
      "cell_type": "code",
      "source": "# remember to evaluate this cell first!\nimport matplotlib.pylab as plt\nimport numpy as np\nimport math\nimport timeit\nimport random\n%matplotlib inline",
      "execution_count": 7,
      "outputs": []
    },
    {
      "metadata": {
        "state": "normal"
      },
      "cell_type": "markdown",
      "source": "## Overview"
    },
    {
      "metadata": {
        "state": "normal"
      },
      "cell_type": "markdown",
      "source": "In this lab you will be given a number of pre-written functions and, for each function $f$, will:\n\n1. Determine its asymptotic runtime complexity; i.e., find $g$ where $f=O(g)$\n2. Evaluate and collect runtimes of $f$ over different sizes of input\n3. Plot collected runtimes along with appropriately parameterized graphs of $g$ to demonstrate tight asymptotic bounds\n\nIt is possible that in step 3 you will realize the bounding function $g$ you settled on in step 1 was incorrect, in which case you will need to make adjustments.\n\nThe next two sections cover how to create basic plots with `matplotlib` and use `timeit` to collect timing data. We did both of these in the timing lecture, but a recap might be helpful!"
    },
    {
      "metadata": {
        "state": "normal"
      },
      "cell_type": "markdown",
      "source": "## Plotting with matplotlib"
    },
    {
      "metadata": {
        "state": "normal"
      },
      "cell_type": "markdown",
      "source": "You can use the matplotlib library to create all sorts of sophisticated visualizations, but we will use it solely for drawing simple 2-dimensional plots. You can check out the [project website](https://matplotlib.org) for documentation on other features.\n\nThe plotting function we will use is `matplotlib.pyplot.plot` ([full documentation here](https://matplotlib.org/api/_as_gen/matplotlib.pyplot.plot.html#matplotlib.pyplot.plot)), which, when passed two \"array-like\" objects of equal length, will interpret and plot their contents as x and y axis coordinates. We will generally use tuples, lists, and ranges as array-like objects. Note that generators are *not* considered array-like by matplotlib.\n\nSome examples (note that we use a semicolon after the call to `plot` to hide its return value):"
    },
    {
      "metadata": {
        "state": "normal",
        "trusted": false
      },
      "cell_type": "code",
      "source": "plt.plot([1, 2, 3, 4, 5], [50, 20, 30, 10, 40]);",
      "execution_count": null,
      "outputs": []
    },
    {
      "metadata": {
        "state": "normal",
        "trusted": false
      },
      "cell_type": "code",
      "source": "xs = range(11)\nys = [x*2 for x in xs]\nplt.plot(xs, ys);",
      "execution_count": null,
      "outputs": []
    },
    {
      "metadata": {
        "state": "normal"
      },
      "cell_type": "markdown",
      "source": "We can also provide an optional format string to `plot`, which controls marker, line-style, and color for the plot.\n\nHere's a shortened list of options copied from the [full documentation of `plot`](https://matplotlib.org/api/_as_gen/matplotlib.pyplot.plot.html#matplotlib.pyplot.plot):\n\n**Markers**\n\n  - `.` : point marker\n  - `o` : circle marker\n  - `s` : square marker\n  - `d` : diamond marker\n\n**Line-styles**\n \n  - `-` : solid line style\n  - `--` : dashed line style\n  - `:` : dotted line style\n\n**Colors**\n\n  - `k` : black\n  - `r` : red\n  - `g` : blue\n  - `b` : green\n  - `y` : yellow\n  - `c` : cyan\n  \nHere are the above plots with some color and styling (if we omit a line style no connecting line is drawn between data points):"
    },
    {
      "metadata": {
        "state": "normal",
        "trusted": false
      },
      "cell_type": "code",
      "source": "plt.plot([1, 2, 3, 4, 5], [50, 20, 30, 10, 40], 'o--r');",
      "execution_count": null,
      "outputs": []
    },
    {
      "metadata": {
        "state": "normal",
        "trusted": false
      },
      "cell_type": "code",
      "source": "xs = range(11)\nys = [x*2 for x in xs]\nplt.plot(xs, ys, 'dg');",
      "execution_count": null,
      "outputs": []
    },
    {
      "metadata": {
        "state": "normal"
      },
      "cell_type": "markdown",
      "source": "Instead of regular `range` objects, which only allow for integral start/stop/step values, we typically prefer to use the [numpy library](https://numpy.org)'s `arange` and `linspace` functions with matplotlib. `arange` is like `range`, except we can use floating point values for start/stop/step. `linspace` lets us specify start and stop values (both inclusive), and the number of values to return in that interval.\n\nExamples of `arange` and `linspace` calls (note that both functions return numpy arrays, which are iterable and can be passed to `plot`):"
    },
    {
      "metadata": {
        "state": "normal",
        "trusted": false
      },
      "cell_type": "code",
      "source": "np.arange(0.5, 2.5, 0.1)",
      "execution_count": null,
      "outputs": []
    },
    {
      "metadata": {
        "state": "normal",
        "trusted": false
      },
      "cell_type": "code",
      "source": "np.linspace(10, 20, 41)",
      "execution_count": null,
      "outputs": []
    },
    {
      "metadata": {
        "state": "normal",
        "trusted": false
      },
      "cell_type": "code",
      "source": "np.linspace(1, 100_000, 50, dtype=int) # we can specify the data type to coerce values into integers",
      "execution_count": null,
      "outputs": []
    },
    {
      "metadata": {
        "state": "normal"
      },
      "cell_type": "markdown",
      "source": "`plot` can be called multiple times in the same cell to draw multiple lines in the same chart. Below we use this facility together with `linspace` and a handful of list comprehensions to plot some common runtime complexity bounding functions over a small interval: "
    },
    {
      "metadata": {
        "state": "normal",
        "trusted": false
      },
      "cell_type": "code",
      "source": "count = 100\nxs = np.linspace(0.1, 4, count)\nys_const        = [1] * count\nys_log          = [math.log(x) for x in xs]\nys_linear       = [x for x in xs]\nys_linearithmic = [x * math.log(x) for x in xs]\nys_quadratic    = [x**2 for x in xs]\n\nplt.plot(xs, ys_const, 'c')\nplt.plot(xs, ys_log, 'r')\nplt.plot(xs, ys_linear, 'b')\nplt.plot(xs, ys_linearithmic, 'g')\nplt.plot(xs, ys_quadratic, 'y');",
      "execution_count": null,
      "outputs": []
    },
    {
      "metadata": {
        "state": "normal"
      },
      "cell_type": "markdown",
      "source": "## Collecting timings with timeit"
    },
    {
      "metadata": {
        "state": "normal"
      },
      "cell_type": "markdown",
      "source": "The timeit module contains the `timeit` function which measures the runtime of code that we pass to it. As covered in class, `timeit` has the following API:\n\n    timeit(stmt='pass', setup='pass', number=1000000, globals=None)\n\nIn a typical invocation, we would pass it code in `stmt` that calls a function defined in our notebook, code in `setup` that initializes any arguments used by `stmt`, a \"reasonable\" value for `number` (such that the amount of time taken is measurable but not too long), and `globals=globals()` (which, recall, allows the timeit module to access functions defined in our notebook).\n\nHere's a simple function for which we might want to take some runtime measurements for different values of `n`:"
    },
    {
      "metadata": {
        "state": "normal",
        "trusted": false
      },
      "cell_type": "code",
      "source": "def demo1(n):\n    accum = 0\n    for i in range(n):\n        accum += 1\n    return accum",
      "execution_count": null,
      "outputs": []
    },
    {
      "metadata": {
        "state": "normal"
      },
      "cell_type": "markdown",
      "source": "We define our input values:"
    },
    {
      "metadata": {
        "state": "normal",
        "trusted": false
      },
      "cell_type": "code",
      "source": "ns = np.linspace(1, 10_000, 50, dtype=int)",
      "execution_count": null,
      "outputs": []
    },
    {
      "metadata": {
        "state": "normal"
      },
      "cell_type": "markdown",
      "source": "And build up a list of timings with `timeit` (because `demo1` take the numerical input directly, there's no setup to do):"
    },
    {
      "metadata": {
        "state": "normal",
        "trusted": false
      },
      "cell_type": "code",
      "source": "ts = [timeit.timeit('demo1({})'.format(n), \n                    number=100, \n                    globals=globals()) \n      for n in ns]",
      "execution_count": null,
      "outputs": []
    },
    {
      "metadata": {
        "state": "normal"
      },
      "cell_type": "markdown",
      "source": "And now we can plot the results:"
    },
    {
      "metadata": {
        "state": "normal",
        "trusted": false
      },
      "cell_type": "code",
      "source": "plt.plot(ns, ts, 'or');",
      "execution_count": null,
      "outputs": []
    },
    {
      "metadata": {
        "state": "normal"
      },
      "cell_type": "markdown",
      "source": "Here's another function to time. This one takes a list instead of a number to process:"
    },
    {
      "metadata": {
        "state": "normal",
        "trusted": false
      },
      "cell_type": "code",
      "source": "def demo2(lst):\n    accum = 0\n    for x in lst:\n        accum += x\n    return accum",
      "execution_count": null,
      "outputs": []
    },
    {
      "metadata": {
        "state": "normal"
      },
      "cell_type": "markdown",
      "source": "We define our input sizes:"
    },
    {
      "metadata": {
        "state": "normal",
        "trusted": false
      },
      "cell_type": "code",
      "source": "ns = np.linspace(1, 10_000, 50, dtype=int)",
      "execution_count": null,
      "outputs": []
    },
    {
      "metadata": {
        "state": "normal"
      },
      "cell_type": "markdown",
      "source": "This time, for each invocation of `timeit` we need to build and pass a list of the appropriate size. Based on the line `accum += x` from the definition of `demo2`, it's clear that the elements in the list must support addition. We don't, however, want this line to be anything other than a constant-time operation (why?), so we'll just pass a list of integers. Order doesn't matter in this function, so we could trivially pass in `list(range(n))`, but in the example below we randomize the list just to demonstrate how to do so:"
    },
    {
      "metadata": {
        "state": "normal",
        "trusted": false
      },
      "cell_type": "code",
      "source": "ts = [timeit.timeit('demo2(lst)', \n                    setup='lst = list(range({})) ; random.shuffle(lst)'.format(n),\n                    number=100, \n                    globals=globals()) \n      for n in ns]",
      "execution_count": null,
      "outputs": []
    },
    {
      "metadata": {
        "state": "normal",
        "trusted": false
      },
      "cell_type": "code",
      "source": "plt.plot(ns, ts, 'or');",
      "execution_count": null,
      "outputs": []
    },
    {
      "metadata": {
        "state": "normal"
      },
      "cell_type": "markdown",
      "source": "## Plotting bounding functions"
    },
    {
      "metadata": {
        "state": "normal"
      },
      "cell_type": "markdown",
      "source": "After collecting runtimes, the next step is to determine the worst-case asymptotic runtime complexity of our function, and, using that, to come up with and plot bounding functions. We will skip over the worst-case analysis and assume it is obvious that both `demo1` and `demo2` have linear worst-case runtime complexity. I.e., they are both $= O(N)$, where $N$ is the magnitude of the integer input to `demo1`, and the size of the list input to `demo2`. If we interpret this as a *tight* asymptotic bound, remember that this means we should be able to come up with multiplers $c_1$ and $c_2$ where for large $N$, $c_1N$ is smaller than the actual runtime and $c_2N$ is larger.\n\nLet's look at the data collected. For `demo2`, we have the (partial) data points:"
    },
    {
      "metadata": {
        "state": "normal",
        "trusted": false
      },
      "cell_type": "code",
      "source": "list(zip(ns, ts))[:10]",
      "execution_count": null,
      "outputs": []
    },
    {
      "metadata": {
        "state": "normal"
      },
      "cell_type": "markdown",
      "source": "We could use linear regression to come up with an equation for the best-fitting line, but we don't need anything so refined. Let's just compute the average of the slopes between all neighboring points:"
    },
    {
      "metadata": {
        "state": "normal",
        "trusted": false
      },
      "cell_type": "code",
      "source": "sum = 0\nfor i in range(len(ns)-1):\n    x0, x1 = ns[i:i+2]\n    y0, y1 = ts[i:i+2]\n    sum += (y1-y0) / (x1-x0) # recall: slope is (rise/run)\navg_slope = sum / (len(ns)-1)",
      "execution_count": null,
      "outputs": []
    },
    {
      "metadata": {
        "state": "normal"
      },
      "cell_type": "markdown",
      "source": "It should make sense that for our bounding linear functions, we simply need to pick $c_1$ < slope, and $c_2$ > slope. To be safe, we use the multipliers 0.8 and 1.2 in our plot below (we also plot the line using the unaltered slope for good measure):"
    },
    {
      "metadata": {
        "state": "normal",
        "trusted": false
      },
      "cell_type": "code",
      "source": "plt.plot(ns, ts, 'or')\nplt.plot(ns, [avg_slope*n     for n in ns], '--r')\nplt.plot(ns, [0.8*avg_slope*n for n in ns], '-g')   # green = lower bound\nplt.plot(ns, [1.2*avg_slope*n for n in ns], '-b');  # blue = upper bound",
      "execution_count": null,
      "outputs": []
    },
    {
      "metadata": {
        "state": "normal"
      },
      "cell_type": "markdown",
      "source": "While some early data points may lie outside the bounding functions, recall that the goal is to simply ensure all data points *after* some threshold value of $N$ lie within the bounding functions. \n\nYou will need to state the worst-case asymptotic runtime complexity of, and produce a chart like this for all the functions below.\n\n---"
    },
    {
      "metadata": {
        "state": "normal"
      },
      "cell_type": "markdown",
      "source": "## Exercises\n\nFor the function provided in the first cell of each numbered exercise below, you will (1) state your hypothesized worst-case Big-O runtime complexity, (2) write code to collect timings for different sizes of input (it may take a bit of work to figure out how to come up with *worst-case* inputs!), and (3) plot the timings alongside bounding functions. As you work through an exercise, it's certainly possible that you may need to go back and revise your initial hypothesis. Note that the bounding functions must take the form $c \\cdot g$, where $c$ is a constant multipler and $g$ is your stated runtime complexity. E.g., for a $O(N^2)$ function, your bounding functions will be of the form $c \\cdot N^2$.\n\nEach exercise already includes three cells beneath the provided function; simply fill them in with your own data. You are alotted a total of 30 seconds for all cells in the notebook to be evaluated, so you also need to be clever about collecting timings.\n\nFor each exercise, parts (1), (2), and (3) and worth 2 points each, giving a maximum score of 30 points for this lab."
    },
    {
      "metadata": {
        "state": "normal"
      },
      "cell_type": "markdown",
      "source": "## Exercise 1"
    },
    {
      "metadata": {
        "deletable": false,
        "editable": false,
        "id": "red_boi",
        "state": "read_only",
        "trusted": false
      },
      "cell_type": "code",
      "source": "def f1(lst):\n    r = 0\n    n = 100\n    if len(lst) < n:\n        n = len(lst)\n    for x in range(n):\n        r += x",
      "execution_count": 12,
      "outputs": []
    },
    {
      "metadata": {
        "state": "normal"
      },
      "cell_type": "markdown",
      "source": "Hypothesis: `f1` = O(n) (n<100)&larr; fill in your hypothesis here"
    },
    {
      "metadata": {
        "state": "normal"
      },
      "cell_type": "markdown",
      "source": "Hypothesis:  `f1` = O(1) (n>100)&larr; fill in your hypothesis here"
    },
    {
      "metadata": {
        "deletable": false,
        "id": "able_vali",
        "starter_code": "# collect timing data into arrays/lists here\nns = []\nts = []",
        "state": "graded",
        "trusted": false
      },
      "cell_type": "code",
      "source": "# collect timing data into arrays/lists here\nns = np.linspace(1, 100, 50, dtype=int)\nts = [timeit.timeit('f1(lst)', \n                    setup='lst = list(range({}))'.format(n),\n                    number=1, \n                    globals=globals()) \n      for n in ns]\nns2 = np.linspace(101, 400, 50, dtype=int)\nts2 = [timeit.timeit('f1(lst)', \n                    setup='lst = list(range({}))'.format(n),\n                    number=1, \n                    globals=globals()) \n      for n in ns2]",
      "execution_count": 39,
      "outputs": []
    },
    {
      "metadata": {
        "state": "normal",
        "trusted": false
      },
      "cell_type": "code",
      "source": "sum = 0\nfor i in range(len(ns)-1):\n    x0, x1 = ns[i:i+2]\n    y0, y1 = ts[i:i+2]\n    sum += (y1-y0) / (x1-x0) # recall: slope is (rise/run)\navg_slope = sum / (len(ns)-1)",
      "execution_count": 40,
      "outputs": []
    },
    {
      "metadata": {
        "deletable": false,
        "id": "blue_mimir",
        "starter_code": "# plot your data and bounding functions here\nplt.plot(ns, ts, 'or')\nplt.plot(ns, [], '-g')\nplt.plot(ns, [], '-b');",
        "state": "graded",
        "trusted": false
      },
      "cell_type": "code",
      "source": "# plot your data and bounding functions here\nplt.plot(ns, ts, 'or')\nplt.plot(ns2, ts2, 'or')\nplt.plot(ns, [avg_slope*n for n in ns], '-g')\nplt.plot(ns, [avg_slope*n+0.000003 for n in ns], '-b');\nplt.plot(ns2, [0.000005     for n in ns2], '-g')\nplt.plot(ns2, [0.000003     for n in ns2], '-b');",
      "execution_count": 41,
      "outputs": [
        {
          "data": {
            "image/png": "[encoded data removed]",
            "text/plain": "<Figure size 432x288 with 1 Axes>"
          },
          "metadata": {
            "needs_background": "light"
          },
          "output_type": "display_data"
        }
      ]
    },
    {
      "metadata": {
        "state": "normal"
      },
      "cell_type": "markdown",
      "source": "## Exercise 2"
    },
    {
      "metadata": {
        "deletable": false,
        "editable": false,
        "id": "fit_vali",
        "state": "read_only",
        "trusted": false
      },
      "cell_type": "code",
      "source": "def f2(x):\n    r = x / 2\n    d = 1e-10\n    while abs(x - r**2) > d:\n        r = (r + x/r) / 2\n    return r",
      "execution_count": 4,
      "outputs": []
    },
    {
      "metadata": {
        "state": "normal"
      },
      "cell_type": "markdown",
      "source": "Hypothesis: `f2` = O(log(n)) &larr; fill in your hypothesis here"
    },
    {
      "metadata": {
        "deletable": false,
        "id": "calm_vali",
        "starter_code": "# collect timing data into arrays/lists here\nns = []\nts = []",
        "state": "graded",
        "trusted": false
      },
      "cell_type": "code",
      "source": "# collect timing data into arrays/lists here\n# ns = np.linspace(0, 0.01, 20)\nns =np.linspace(0.00000001, 0.01, 20)\nts = [timeit.timeit('f2({})'.format(n),\n                     globals=globals(),\n                     number=1)\n       for n in ns]",
      "execution_count": 6,
      "outputs": []
    },
    {
      "metadata": {
        "state": "normal",
        "trusted": false
      },
      "cell_type": "code",
      "source": "x=np.arange(0.00000001,0.01,0.00005)\ny1=[0.0000002*-math.log(a,1.5)for a in x]\ny2=[0.0000002*-math.log(a,1.8)for a in x]",
      "execution_count": 28,
      "outputs": []
    },
    {
      "metadata": {
        "deletable": false,
        "id": "calm_mimir",
        "starter_code": "# plot your data and bounding functions here\nplt.plot(ns, ts, 'or')\nplt.plot(ns, [], '-g')\nplt.plot(ns, [], '-b');",
        "state": "graded",
        "trusted": false
      },
      "cell_type": "code",
      "source": "# plot your data and bounding functions here\nplt.plot(ns, ts, 'or')\n#plt.plot(ns, [math.log(n,3)     for n in ns], '-g')\n#plt.plot(ns, [math.log(n,10)     for n in ns], '-b');\nplt.plot(x,y1,'-g',label=\"log3(x)\")\nplt.plot(x,y2,'-b',label=\"log3(x)\")",
      "execution_count": 29,
      "outputs": [
        {
          "data": {
            "text/plain": "[<matplotlib.lines.Line2D at 0x7fdf7aa31cf8>]"
          },
          "execution_count": 29,
          "metadata": {},
          "output_type": "execute_result"
        },
        {
          "data": {
            "image/png": "[encoded data removed]",
            "text/plain": "<Figure size 432x288 with 1 Axes>"
          },
          "metadata": {
            "needs_background": "light"
          },
          "output_type": "display_data"
        }
      ]
    },
    {
      "metadata": {
        "state": "normal"
      },
      "cell_type": "markdown",
      "source": "## Exercise 3"
    },
    {
      "metadata": {
        "deletable": false,
        "editable": false,
        "id": "fit_tyr",
        "state": "read_only",
        "trusted": false
      },
      "cell_type": "code",
      "source": "def f3(lst):\n    while True:\n        swapped = False\n        for i in range(len(lst)-1):\n            if lst[i] > lst[i+1]:\n                lst[i], lst[i+1] = lst[i+1], lst[i]\n                swapped = True\n        if not swapped:\n            break",
      "execution_count": 53,
      "outputs": []
    },
    {
      "metadata": {
        "state": "normal"
      },
      "cell_type": "markdown",
      "source": "Hypothesis: `f3` = O(n^2) &larr; fill in your hypothesis here"
    },
    {
      "metadata": {
        "deletable": false,
        "id": "spicy_nott",
        "starter_code": "# collect timing data into arrays/lists here\nns = []\nts = []",
        "state": "graded",
        "trusted": false
      },
      "cell_type": "code",
      "source": "# collect timing data into arrays/lists here\nns = np.linspace(1, 1000, 50, dtype=int)\nts = [timeit.timeit('f3(lst)', \n                    setup='lst = list(range({})) ; random.shuffle(lst)'.format(i),\n                    number=1, \n                    globals=globals()) \n      for i in ns]",
      "execution_count": 58,
      "outputs": []
    },
    {
      "metadata": {
        "state": "normal",
        "trusted": false
      },
      "cell_type": "code",
      "source": "sum = 0\nfor i in range(len(ns)-1):\n    x0, x1 = ns[i:i+2]\n    y0, y1 = ts[i:i+2]\n    sum += (y1-y0) / (x1-x0) # recall: slope is (rise/run)\navg_slope = sum / (len(ns)-1)",
      "execution_count": 59,
      "outputs": []
    },
    {
      "metadata": {
        "state": "normal",
        "trusted": false
      },
      "cell_type": "code",
      "source": "sum2=0\nfor i in range(len(ns)-1):\n    x, xi = ns[i:i+2]\n    y, yi = ts[i:i+2]\n    run=xi-x\n    rise=yi-y# recall: slope is (rise/run)\n    const=rise/run/xi/2\n    sum2+=const\n    x=xi\n    y=yi\nn2slope=sum2/len(ns)    ",
      "execution_count": 60,
      "outputs": []
    },
    {
      "metadata": {
        "deletable": false,
        "id": "high_tyr",
        "starter_code": "# plot your data and bounding functions here\nplt.plot(ns, ts, 'or')\nplt.plot(ns, [], '-g')\nplt.plot(ns, [], '-b');",
        "state": "graded",
        "trusted": false
      },
      "cell_type": "code",
      "source": "# plot your data and bounding functions here\nplt.plot(ns, ts, 'or')\nplt.plot(ns, [0.7*n2slope*n**2 for n in ns], '-g')\nplt.plot(ns, [1.3*n2slope*n**2 for n in ns], '-b')",
      "execution_count": 66,
      "outputs": [
        {
          "data": {
            "text/plain": "[<matplotlib.lines.Line2D at 0x7fe273befcc0>]"
          },
          "execution_count": 66,
          "metadata": {},
          "output_type": "execute_result"
        },
        {
          "data": {
            "image/png": "[encoded data removed]",
            "text/plain": "<Figure size 432x288 with 1 Axes>"
          },
          "metadata": {
            "needs_background": "light"
          },
          "output_type": "display_data"
        }
      ]
    },
    {
      "metadata": {
        "state": "normal"
      },
      "cell_type": "markdown",
      "source": "## Exercise 4"
    },
    {
      "metadata": {
        "deletable": false,
        "editable": false,
        "id": "calm_ran",
        "state": "read_only",
        "trusted": false
      },
      "cell_type": "code",
      "source": "def f4(n):\n    counters = [0] * n\n    while not all(counters):\n        for i in range(n):\n            if counters[i]:\n                counters[i] = 0\n            else:\n                counters[i] = 1\n                break",
      "execution_count": 4,
      "outputs": []
    },
    {
      "metadata": {
        "state": "normal"
      },
      "cell_type": "markdown",
      "source": "Hypothesis: `f4` = O(2^n) &larr; fill in your hypothesis here"
    },
    {
      "metadata": {
        "deletable": false,
        "id": "eager_saga",
        "starter_code": "# collect timing data into arrays/lists here\nns = []\nts = []",
        "state": "graded",
        "trusted": false
      },
      "cell_type": "code",
      "source": "# collect timing data into arrays/lists here\nns = np.linspace(0, 20, 19, dtype=int)\n#ns = np.linspace(0, 200, 199, dtype=int)\nts = [timeit.timeit('f4({})'.format(n), \n                    number=1, \n                    globals=globals()) \n      for n in ns]",
      "execution_count": 5,
      "outputs": []
    },
    {
      "metadata": {
        "deletable": false,
        "id": "sharp_thor",
        "starter_code": "# plot your data and bounding functions here\nplt.plot(ns, ts, 'or')\nplt.plot(ns, [], '-g')\nplt.plot(ns, [], '-b');",
        "state": "graded",
        "trusted": false
      },
      "cell_type": "code",
      "source": "# plot your data and bounding functions here\nplt.plot(ns, ts, 'or')\nplt.plot(ns, [0.0000003*2**n for n in ns], '-g')\nplt.plot(ns, [0.0000006*2**n for n in ns], '-b')",
      "execution_count": 6,
      "outputs": [
        {
          "data": {
            "text/plain": "[<matplotlib.lines.Line2D at 0x7fcea92b5748>]"
          },
          "execution_count": 6,
          "metadata": {},
          "output_type": "execute_result"
        },
        {
          "data": {
            "image/png": "[encoded data removed]",
            "text/plain": "<Figure size 432x288 with 1 Axes>"
          },
          "metadata": {
            "needs_background": "light"
          },
          "output_type": "display_data"
        }
      ]
    },
    {
      "metadata": {
        "state": "normal"
      },
      "cell_type": "markdown",
      "source": "## Exercise 5"
    },
    {
      "metadata": {
        "deletable": false,
        "editable": false,
        "id": "sly_loki",
        "state": "read_only",
        "trusted": false
      },
      "cell_type": "code",
      "source": "def f5(lst):\n    n = len(lst)\n    for i in range(n*100):\n        a = random.randrange(n)\n        b = random.randrange(n)\n        lst[a], lst[b] = lst[b], lst[a]",
      "execution_count": 19,
      "outputs": []
    },
    {
      "metadata": {
        "state": "normal"
      },
      "cell_type": "markdown",
      "source": "Hypothesis: `f5` = O(n) &larr; fill in your hypothesis here"
    },
    {
      "metadata": {
        "deletable": false,
        "id": "apt_hel",
        "starter_code": "# collect timing data into arrays/lists here\nns = []\nts = []",
        "state": "graded",
        "trusted": false
      },
      "cell_type": "code",
      "source": "# collect timing data into arrays/lists here\nns = np.linspace(1, 20, 19, dtype=int)\nts = [timeit.timeit('f5(lst)', \n                    setup='lst = list(range({})) ; random.shuffle(lst)'.format(i),\n                    number=1, \n                    globals=globals()) \n      for i in ns]",
      "execution_count": 20,
      "outputs": []
    },
    {
      "metadata": {
        "state": "normal",
        "trusted": false
      },
      "cell_type": "code",
      "source": "sum = 0\nfor i in range(len(ns)-1):\n    x0, x1 = ns[i:i+2]\n    y0, y1 = ts[i:i+2]\n    sum += (y1-y0) / (x1-x0) # recall: slope is (rise/run)\navg_slope = sum / (len(ns)-1)",
      "execution_count": 21,
      "outputs": []
    },
    {
      "metadata": {
        "deletable": false,
        "id": "sharp_sol",
        "starter_code": "# plot your data and bounding functions here\nplt.plot(ns, ts, 'or')\nplt.plot(ns, [], '-g')\nplt.plot(ns, [], '-b');",
        "state": "graded",
        "trusted": false
      },
      "cell_type": "code",
      "source": "# plot your data and bounding functions here\nplt.plot(ns, ts, 'or')\nplt.plot(ns, [0.8*avg_slope*n for n in ns], '-g')\nplt.plot(ns, [1.2*avg_slope*n for n in ns], '-b');",
      "execution_count": 22,
      "outputs": [
        {
          "data": {
            "image/png": "[encoded data removed]",
            "text/plain": "<Figure size 432x288 with 1 Axes>"
          },
          "metadata": {
            "needs_background": "light"
          },
          "output_type": "display_data"
        }
      ]
    },
    {
      "metadata": {
        "state": "normal",
        "trusted": false
      },
      "cell_type": "code",
      "source": "",
      "execution_count": null,
      "outputs": []
    }
  ],
  "metadata": {
    "kernelspec": {
      "name": "python3",
      "display_name": "Python 3",
      "language": "python"
    },
    "language_info": {
      "name": "python",
      "version": "3.7.3",
      "mimetype": "text/x-python",
      "codemirror_mode": {
        "name": "ipython",
        "version": 3
      },
      "pygments_lexer": "ipython3",
      "nbconvert_exporter": "python",
      "file_extension": ".py"
    },
    "mimir": {
      "project_id": "522901ca-320d-48fc-a01d-d073de4f4663",
      "last_submission_id": "",
      "data": {}
    },
    "varInspector": {
      "window_display": false,
      "cols": {
        "lenName": 16,
        "lenType": 16,
        "lenVar": 40
      },
      "kernels_config": {
        "python": {
          "library": "var_list.py",
          "delete_cmd_prefix": "del ",
          "delete_cmd_postfix": "",
          "varRefreshCmd": "print(var_dic_list())"
        },
        "r": {
          "library": "var_list.r",
          "delete_cmd_prefix": "rm(",
          "delete_cmd_postfix": ") ",
          "varRefreshCmd": "cat(var_dic_list()) "
        }
      },
      "types_to_exclude": [
        "module",
        "function",
        "builtin_function_or_method",
        "instance",
        "_Feature"
      ]
    }
  },
  "nbformat": 4,
  "nbformat_minor": 2
}